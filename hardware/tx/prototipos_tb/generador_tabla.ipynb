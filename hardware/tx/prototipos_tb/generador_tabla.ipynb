{
 "cells": [
  {
   "cell_type": "code",
   "execution_count": 2,
   "metadata": {},
   "outputs": [],
   "source": [
    "import math"
   ]
  },
  {
   "cell_type": "code",
   "execution_count": 6,
   "metadata": {},
   "outputs": [],
   "source": [
    "# Parámetros\n",
    "TABLE_DEPTH = 12288\n",
    "DAC_RESOLUTION = 14\n",
    "\n",
    "# Generar valores del seno y convertirlos a binario\n",
    "sine_values = [format(int((2**DAC_RESOLUTION - 1) * (math.sin(2 * math.pi * i / TABLE_DEPTH) + 1) / 2), 'b') for i in range(TABLE_DEPTH)]\n",
    "\n",
    "# Guardar los valores en un archivo de texto\n",
    "with open(\"sine_table.txt\", \"w\") as file:\n",
    "    for value in sine_values:\n",
    "        file.write(f\"{value}\\n\")\n",
    "\n"
   ]
  }
 ],
 "metadata": {
  "kernelspec": {
   "display_name": "Python 3",
   "language": "python",
   "name": "python3"
  },
  "language_info": {
   "codemirror_mode": {
    "name": "ipython",
    "version": 3
   },
   "file_extension": ".py",
   "mimetype": "text/x-python",
   "name": "python",
   "nbconvert_exporter": "python",
   "pygments_lexer": "ipython3",
   "version": "3.11.5"
  }
 },
 "nbformat": 4,
 "nbformat_minor": 2
}
